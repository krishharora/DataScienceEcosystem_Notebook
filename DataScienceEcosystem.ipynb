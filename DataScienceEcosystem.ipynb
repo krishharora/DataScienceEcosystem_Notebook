{
  "metadata": {
    "kernelspec": {
      "name": "python",
      "display_name": "Python (Pyodide)",
      "language": "python"
    },
    "language_info": {
      "codemirror_mode": {
        "name": "python",
        "version": 3
      },
      "file_extension": ".py",
      "mimetype": "text/x-python",
      "name": "python",
      "nbconvert_exporter": "python",
      "pygments_lexer": "ipython3",
      "version": "3.8"
    }
  },
  "nbformat_minor": 5,
  "nbformat": 4,
  "cells": [
    {
      "id": "8c1b4136-f723-4c6e-80b2-fa8b57dda698",
      "cell_type": "markdown",
      "source": "# Data Science Tools and Ecosystem",
      "metadata": {}
    },
    {
      "id": "6b66c2e6-a2f4-4e65-a880-bc2a8e3ae962",
      "cell_type": "markdown",
      "source": "In this notebook, Data Science Tools and Ecosystem are summarized.",
      "metadata": {}
    },
    {
      "id": "9549b2c8-cdc9-4973-9381-07291740a45c",
      "cell_type": "markdown",
      "source": "**Objectives:** \n- List popular languages for Data Science.\n- List popular libraries for Data Science.\n- Create a table of Data Science tools.\n- Evaluate arithmetic expressions in Python.\n- Convert units of measure.",
      "metadata": {}
    },
    {
      "id": "d2cea35c-04dc-473b-9fe9-06ac3d0e73a0",
      "cell_type": "markdown",
      "source": "Some of the popular languages that Data Scientists use are:\n1. Python\n2. R\n3. SQL",
      "metadata": {}
    },
    {
      "id": "3bf2fe65-400a-486f-ada2-49d8a312bd30",
      "cell_type": "markdown",
      "source": "Some of the commonly used libraries used by Data Scientists include:\n1. NumPy\n2. Seaborn\n3. Scikit-learn",
      "metadata": {}
    },
    {
      "id": "4c25b9c4-12b8-4c0b-bbeb-e8c1356fa32b",
      "cell_type": "markdown",
      "source": "| Data Science Tools |\n|---------------|\n| Jupyter Notebook |\n| JupyterLab |\n| RStudio |",
      "metadata": {}
    },
    {
      "id": "4ab45710-7197-4679-b2d7-bf2b8be1c330",
      "cell_type": "markdown",
      "source": "### Below are a few examples of evaluating arithmetic expressions in Python",
      "metadata": {}
    },
    {
      "id": "2693d4a9-178c-4546-a710-de7ba38bb59f",
      "cell_type": "code",
      "source": "(3*4)+5\n# This a simple arithmetic expression to mutiply then add integers",
      "metadata": {
        "trusted": true
      },
      "outputs": [
        {
          "execution_count": 1,
          "output_type": "execute_result",
          "data": {
            "text/plain": "17"
          },
          "metadata": {}
        }
      ],
      "execution_count": 1
    },
    {
      "id": "799c4ac2-f8ff-4150-b049-0b0985e62adc",
      "cell_type": "code",
      "source": "200/60\n#  This will convert 200 minutes to hours by diving by 60",
      "metadata": {
        "trusted": true
      },
      "outputs": [
        {
          "execution_count": 2,
          "output_type": "execute_result",
          "data": {
            "text/plain": "3.3333333333333335"
          },
          "metadata": {}
        }
      ],
      "execution_count": 2
    },
    {
      "id": "895cd508-8d31-4909-b789-e64aa658b7ef",
      "cell_type": "markdown",
      "source": "## Author\nKrish Arora ",
      "metadata": {}
    }
  ]
}